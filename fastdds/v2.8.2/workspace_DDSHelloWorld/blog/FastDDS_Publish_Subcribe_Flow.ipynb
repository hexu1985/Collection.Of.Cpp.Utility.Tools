{
 "cells": [
  {
   "cell_type": "markdown",
   "id": "ee35bbee-617d-46a7-b1bf-1ee18d0c2138",
   "metadata": {},
   "source": [
    "# FastDDS v2.8.2 数据流程代码解析"
   ]
  },
  {
   "cell_type": "markdown",
   "id": "00c8ea03-ff15-4665-9815-df6c884cbd22",
   "metadata": {},
   "source": [
    "本篇文章基于FastDDS v2.8.2版本，官方的publisher and subscriber示例程序，来梳理FastDDS源码实现中的数据收发流程。"
   ]
  },
  {
   "cell_type": "markdown",
   "id": "20b4f2b8-7c23-4009-9cdd-35e3a7db2ee8",
   "metadata": {},
   "source": [
    "官方的publisher and subscriber示例程序链接：\n",
    "[Writing a simple C++ publisher and subscriber application](https://fast-dds.docs.eprosima.com/en/v2.8.2/fastdds/getting_started/simple_app/simple_app.html)  \n",
    "<https://fast-dds.docs.eprosima.com/en/v2.8.2/fastdds/getting_started/simple_app/simple_app.html>"
   ]
  },
  {
   "cell_type": "markdown",
   "id": "be298f74-f61f-4384-8826-898c6636dffb",
   "metadata": {},
   "source": [
    "![Publisher的静态类图](publisher_class.drawio.png)"
   ]
  },
  {
   "cell_type": "code",
   "execution_count": null,
   "id": "48b784a3-14dd-4766-87fc-4198cd337c18",
   "metadata": {},
   "outputs": [],
   "source": []
  }
 ],
 "metadata": {
  "kernelspec": {
   "display_name": "Python 3 (ipykernel)",
   "language": "python",
   "name": "python3"
  },
  "language_info": {
   "codemirror_mode": {
    "name": "ipython",
    "version": 3
   },
   "file_extension": ".py",
   "mimetype": "text/x-python",
   "name": "python",
   "nbconvert_exporter": "python",
   "pygments_lexer": "ipython3",
   "version": "3.12.7"
  }
 },
 "nbformat": 4,
 "nbformat_minor": 5
}

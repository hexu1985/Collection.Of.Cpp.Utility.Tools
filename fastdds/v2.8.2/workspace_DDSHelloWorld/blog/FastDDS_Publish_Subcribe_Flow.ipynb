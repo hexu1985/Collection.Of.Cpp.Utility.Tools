{
 "cells": [
  {
   "cell_type": "markdown",
   "id": "ee35bbee-617d-46a7-b1bf-1ee18d0c2138",
   "metadata": {},
   "source": [
    "# Fast DDS v2.8.2 数据流程代码解析"
   ]
  },
  {
   "cell_type": "markdown",
   "id": "00c8ea03-ff15-4665-9815-df6c884cbd22",
   "metadata": {},
   "source": [
    "本篇文章基于Fast DDS v2.8.2版本，官方的发布端(publisher)和订阅端(subscriber)示例程序，来梳理FastDDS源码实现中的数据收发流程。"
   ]
  },
  {
   "cell_type": "markdown",
   "id": "eb46c998-af17-4349-a2fd-f9dbbb861197",
   "metadata": {},
   "source": [
    "## 概览"
   ]
  },
  {
   "cell_type": "markdown",
   "id": "89f223c4-0a90-4c0e-bf2c-6c39eea583f4",
   "metadata": {},
   "source": [
    "首先，我们给出基于Fast DDS库应用的架构图，便于理解Fast DDS库的概貌。"
   ]
  },
  {
   "cell_type": "markdown",
   "id": "f2784d15-0ab4-4b27-8ce4-614d33a62ec9",
   "metadata": {},
   "source": [
    "**基于Fast DDS库应用的架构图**"
   ]
  },
  {
   "cell_type": "markdown",
   "id": "2a51a14f-74ec-4861-abd7-e29c4a741bc7",
   "metadata": {},
   "source": [
    "![FastDDS架构图](library_overview.svg)"
   ]
  },
  {
   "cell_type": "markdown",
   "id": "191c84b0-e2e8-49dc-812e-5f8054635ac1",
   "metadata": {},
   "source": [
    "从上图我们可以看到，基于Fast DDS架构的应用程序主要分为四层：\n",
    "- 应用层：在 分布式系统 中使用 Fast DDS API 实现通信的用户应用程序。\n",
    "- Fast DDS层：DDS通信中间件的实现。 它允许部署一个或多个 DDS 域，其中在同一域中的 DomainParticipants 通过 发布(Publish)/订阅(Subscribe) Topic 来交换消息。\n",
    "- RTPS层：实时发布订阅 (RTPS) 协议的实现 与 DDS 应用程序的互操作性。 该层充当传输层的抽象层。\n",
    "- 传输层：Fast DDS 可基于各种传输协议收发数据, 例如不可靠的运输协议(UDP),可靠 传输协议(TCP)或共享内存传输协议(SHM)。"
   ]
  },
  {
   "cell_type": "markdown",
   "id": "35b8fe34-db66-468c-a687-72748bfc9a93",
   "metadata": {},
   "source": [
    "## 示例代码"
   ]
  },
  {
   "cell_type": "markdown",
   "id": "60c4e14e-4df6-4f35-bc01-4664e0ea532c",
   "metadata": {},
   "source": [
    "下面介绍一下 fastdds 官网给出的示例代码，我们后面会根据这个示例来逐步分析fastdds 的源码：  \n",
    "官方给出了发布端(publisher)和订阅端(subscriber)示例程序，前者是发送端程序，后者是接收端程序。  \n",
    "如果跨网络通信，则两个程序运行在不同的机器上（两台机器在同一个局域网中）。  \n",
    "当然发布端(publisher)和订阅端(subscriber)程序也可以运行在同一台设备上，这时候就是使用了dds的跨进程通信（共享内存）的能力。  "
   ]
  },
  {
   "cell_type": "markdown",
   "id": "20b4f2b8-7c23-4009-9cdd-35e3a7db2ee8",
   "metadata": {},
   "source": [
    "官方的发布(publishe)和订阅(subscribe)示例程序链接：\n",
    "[Writing a simple C++ publisher and subscriber application](https://fast-dds.docs.eprosima.com/en/v2.8.2/fastdds/getting_started/simple_app/simple_app.html)  \n",
    "<https://fast-dds.docs.eprosima.com/en/v2.8.2/fastdds/getting_started/simple_app/simple_app.html>  \n",
    "附录也会列出完整的示例源代码。"
   ]
  },
  {
   "cell_type": "markdown",
   "id": "58aa65d2-590d-46f0-8404-4d76d440b5d4",
   "metadata": {},
   "source": [
    "下图给出了发布端（Publisher）和订阅端（Subscriber）示例程序的Fast DDS API调用流程。"
   ]
  },
  {
   "cell_type": "markdown",
   "id": "f578520e-4b05-4b14-ae62-087191c34098",
   "metadata": {},
   "source": [
    "![发布和订阅api流程](api.drawio.png)"
   ]
  },
  {
   "cell_type": "markdown",
   "id": "efee50c3-1654-48d5-be49-e120be6e2d9a",
   "metadata": {},
   "source": [
    "发布端（Publisher）的API流程如下：\n",
    "- 第一步创建了DomainParticipant对象，这个对象包含很多内容，包括RTPSParticipant对象，可以理解为Fast DDS里的根对象，管理其它所有的子对象。\n",
    "- 第二步调用了TypeSupport 的register_type，这里面主要是为了之后数据传输的过程中数据解析使用，约定传输数据的数据结构。如果type 不对，数据解析就无法进行。示例代码里对应的是HelloWorldPubSubType（通过HelloWorld.idl文件描述生成）\n",
    "- 第三步创建的Publisher对象，是在DomainParticipant内部创建的，DomainParticipant内部可以包含0到多个Publisher和Subsciber，Publisher对象是消息的发布者，Subsciber对象是消息的接收者。\n",
    "- 第四步创建了Topic 对象，topic 就是通信的主题，只有在同一topic下才能互相通信。\n",
    "- 第五步在第三步的基础上创建 DataWriter 对象。\n",
    "- 第六步通过 DataWriter 对象的write()接口发送数据，前提是有匹配的订阅端。"
   ]
  },
  {
   "cell_type": "markdown",
   "id": "06acc96b-57fa-4966-b6a7-124f6550f69f",
   "metadata": {},
   "source": [
    "订阅端（subscriber）的API流程如下：其中第一、二、四步和发布端（Publisher）的API流程是一样的。\n",
    "- 第一步创建了DomainParticipant对象，这个对象包含很多内容，包括rtpsparticipant对象，可以理解为Fast DDS里的根对象，管理其它所有的子对象。\n",
    "- 第二步调用了TypeSupport 的register_type，这里面主要是为了之后数据传输的过程中数据解析使用，约定传输数据的数据结构。如果type 不对，数据解析就无法进行。示例代码里对应的是HelloWorldPubSubType（通过HelloWorld.idl文件描述生成）\n",
    "- 第三步创建的Subscriber对象，是在DomainParticipant内部创建的\n",
    "- 第四步创建了Topic 对象，topic 就是通信的主题，只有在同一topic下才能互相通信。\n",
    "- 第五步在第三步的基础上创建DataReader对象，并且注册了DataReaderListener的子类\n",
    "- 第六步在DataReader收到数据时，会回调on_data_available()通知到上层应用，上层应用再通过DataReader的take_next_sample()接口读取数据。"
   ]
  },
  {
   "cell_type": "markdown",
   "id": "647fab32-4d91-45ba-9155-6ada7e70a466",
   "metadata": {},
   "source": [
    "我们主要介绍发布端（Publisher）和订阅端（Subscriber）之间的数据传输在Fast DDS库中的代码实现。所以Fast DDS库中，发布端（Publisher）和订阅端（Subscriber）的初始化部分代码（以及PDP和EDP协议流程）不会在本文中描述。"
   ]
  },
  {
   "cell_type": "markdown",
   "id": "f32f54f4-fef5-4301-bd1e-04428065d124",
   "metadata": {},
   "source": [
    "## 发布端（Publisher）在Fast DDS库中的数据发送流程"
   ]
  },
  {
   "cell_type": "markdown",
   "id": "1414cbd6-c813-49af-9443-5054872aa6be",
   "metadata": {},
   "source": [
    "为了后续更容易的看懂函数调用的时序图，我们先给出Fast DSS库中跟发布端相关的类的关系图。"
   ]
  },
  {
   "cell_type": "markdown",
   "id": "529a4279-4fd5-4445-a91b-414d7aaebbb7",
   "metadata": {},
   "source": [
    "**发布端(publisher)涉及的类的静态关系图**"
   ]
  },
  {
   "cell_type": "markdown",
   "id": "e62a2e02-7038-4591-844d-29f256f75b80",
   "metadata": {},
   "source": [
    "![Publisher的静态类图](publisher_class.drawio.png)"
   ]
  },
  {
   "cell_type": "markdown",
   "id": "741e1e02-06be-4d46-a37b-c65ffb74baf7",
   "metadata": {},
   "source": [
    "粗略看一下，有30多个类，这还只是跟发布端(publisher)相关的主要类，我们可以把上图中的类划分为：\n",
    "- DDS域的类：\n",
    "    + DomainParticipant和DomainParticipantImpl\n",
    "    + Topic和TopicDescription\n",
    "    + Publisher和PublisherImpl\n",
    "    + DataWriter和DataWriterImpl\n",
    "    + 缓存WriterHistory和CacheChange_t \n",
    "- RTPS域的类：\n",
    "    + RTPSParticipant和RTPSParticipantImpl\n",
    "    + RTPSWriter及其子类：StatefulWriter、StatelessWriter\n",
    "    + RTPSMessageSenderInterface及其子类：LocatorSelectorSender\n",
    "    + 网络传输相关的类：NetworkFactory，TransportInterface及其子类：UDPTransportInterface、UDPv4Transport、UDPv6Transport、TCPTransportInterface、TCPv4Transport、TCPv6Transport、SharedMemTransport\n",
    "    + 发送相关的类：SenderResource及其子类：UDPSenderResource、TCPSenderResource、SharedMemSenderResource\n",
    "    + 流控相关的类：FlowControllerFactory，FlowController及其子类：FlowControllerImpl\n",
    "    + 消息相关的类：RTPSMessageGroup和CDRMessage_t"
   ]
  },
  {
   "cell_type": "markdown",
   "id": "39063505-177b-4f8b-a043-ff7e4f67d265",
   "metadata": {},
   "source": [
    "DSS域的类大部分都使用了Impl惯用法，我理解因为DSS域中的大部分类都是应用层（Applilcation）能看到的接口类，所以桥接模式可以减少耦合，避免内部定义（头文件）的暴露。  \n",
    "DSS域中的WriterHistory类作为DSS域和RTPS域之间的数据传输缓存很重要：\n",
    "\n",
    "**WriterHistory 主要作用**\n",
    "\n",
    "1. **历史记录管理**：维护已发送但尚未被所有订阅者确认接收的数据样本的历史记录\n",
    "2. **可靠性支持**：在可靠通信模式下，确保数据能够被重新发送给未能成功接收的订阅者\n",
    "3. **样本生命周期管理**：跟踪数据样本的状态（已发送、已确认等）\n",
    "\n",
    "**WriterHistory 核心功能**\n",
    "\n",
    "- **存储已发布的数据样本**：保存写入但尚未被所有订阅者确认的样本\n",
    "- **支持样本回收**：当样本被所有订阅者确认后，可以回收内存\n",
    "- **提供重传机制**：当检测到订阅者丢失数据时，可以从历史记录中重新发送\n",
    "- **管理历史深度**：根据配置的历史深度限制，自动移除旧的样本"
   ]
  },
  {
   "cell_type": "markdown",
   "id": "01384fde-a6b1-4266-ae3c-d099ecf6f774",
   "metadata": {},
   "source": [
    "而RTPS域的类虽然众多，但在发布端(publisher)扮演的角色其实就分类两大类：\n",
    "- 数据组包\n",
    "- 数据发送\n",
    "\n",
    "具体每个类的作用，我会在下面的时序图中，分别介绍。"
   ]
  },
  {
   "cell_type": "markdown",
   "id": "b53ccbb4-7525-444c-b8e3-a9d1f8d664ae",
   "metadata": {},
   "source": [
    "**发布端(publisher)数据发送时序图**"
   ]
  },
  {
   "cell_type": "markdown",
   "id": "b2edacdb-9fcc-4e77-bab9-611134fde9c6",
   "metadata": {},
   "source": [
    "![Publisher的时序图](publisher_write.drawio.png)"
   ]
  },
  {
   "cell_type": "markdown",
   "id": "e4199d4c-772b-447e-a6be-4f8be3a95684",
   "metadata": {},
   "source": [
    "上图是我根据代码调用栈，将我认为关键的函数调用放入时序图，看上去好像很复杂，其实干的就是中间件数据发送的标准动作：序列化、组包、发送。  \n",
    "接下来我将分段介绍整个发送流程。"
   ]
  },
  {
   "cell_type": "markdown",
   "id": "b1c2b881-7d25-41d8-bb1c-3a881fa91fc7",
   "metadata": {},
   "source": [
    "**1. 序列化**"
   ]
  },
  {
   "cell_type": "markdown",
   "id": "e303ff6c-f326-403e-83f3-41882f2d7b46",
   "metadata": {},
   "source": [
    "![Publisher的时序图1](publisher_write.1.png)"
   ]
  },
  {
   "cell_type": "markdown",
   "id": "62f6a118-1ec2-4e54-939c-1e2b15d05e86",
   "metadata": {},
   "source": [
    "数据发送从`writer_->write(&hello_)`开始，对应于HelloWorldPublisher.cpp中的如下代码：\n",
    "\n",
    "```cpp\n",
    "    //!Send a publication\n",
    "    bool publish()\n",
    "    {\n",
    "        if (listener_.matched_ > 0)\n",
    "        {\n",
    "            hello_.index(hello_.index() + 1);\n",
    "            writer_->write(&hello_);\n",
    "            return true;\n",
    "        }\n",
    "        return false;\n",
    "    }\n",
    "```\n",
    "\n",
    "- write调用被DataWriter类转发給DataWriterImpl类\n",
    "- 通过HelloWorldPubSubType类完成数据序列化\n",
    "- 通过RTPSWriter类创建CacheChange_t对象，并将序列化的数据保存在其中。\n",
    "- 将CacheChange_t对象放入DataWriterHistory缓存。"
   ]
  },
  {
   "cell_type": "markdown",
   "id": "846fc988-6396-4cf4-b926-d8cd6f93059b",
   "metadata": {},
   "source": [
    "**2. 组包**"
   ]
  },
  {
   "cell_type": "markdown",
   "id": "17bfe420-cb2f-42df-a13c-7559de40d144",
   "metadata": {},
   "source": [
    "![Publisher的时序图2](publisher_write.2.png)"
   ]
  },
  {
   "cell_type": "markdown",
   "id": "9d236c5f-6a67-4c99-af0e-4e6b48fc5dea",
   "metadata": {},
   "source": [
    "这块的流程看上去最为复杂，各种来回调用，其实最关键的就是为了创建RTPSMessageGroup对象，进行组包，而FlowControlImpl类的主要作用就是为了限制发送速率和支持 QoS 策略。"
   ]
  },
  {
   "cell_type": "markdown",
   "id": "d0a13770-59c1-44d2-ba5c-28bad703c4da",
   "metadata": {},
   "source": [
    "**3. 数据发送**"
   ]
  },
  {
   "cell_type": "markdown",
   "id": "b0e2cf73-8f0d-4eb7-835d-2403b86e28a4",
   "metadata": {},
   "source": [
    "![Publisher的时序图3](publisher_write.3.png)"
   ]
  },
  {
   "cell_type": "markdown",
   "id": "8b9f905d-141d-4e5e-b16c-871c0bc45e09",
   "metadata": {},
   "source": [
    "RTPSMessageGroup类会在析构函数中调用send函数，通过RTPSMessageSenderInterface(LocatorSelectorSender)对象，沿着  \n",
    "- RTPSWriter(StatefulWriter)  \n",
    "- RTPSParticipantImpl  \n",
    "- SenderResource(UDPSenderResource)  \n",
    "- TransportInterface(UDPTransportInterface)  \n",
    "- eProsimaUDPSocket\n",
    "\n",
    "最终通过UDP socket发送到对端。"
   ]
  },
  {
   "cell_type": "markdown",
   "id": "2fc72875-c363-4ac5-8f1d-b9eb430c277e",
   "metadata": {},
   "source": [
    "这里要说明的一点是LocatorSelectorSender类，这个类是 **Fast DDS** 中用于 **管理数据发送的目标网络定位器（Locator）选择策略** 的核心辅助类。  \n",
    "它负责在发送 RTPS 消息时，从多个可用的网络定位器（如 UDP、TCP、SHM 等）中选择最优的传输路径，以提高通信效率和可靠性。  \n",
    "如果匹配的订阅端(subscriber)程序是在同一主机，那么默认就会通过共享内存（SHM）方式发送，如果匹配的订阅端(subscriber)程序是在局域网里的另外一台主机上，那么默认就会通过UDP方式发送。  \n",
    "本篇文章主要是介绍通过UDP通信的调用过程。"
   ]
  },
  {
   "cell_type": "markdown",
   "id": "45574088-9317-48e3-84b2-ae8a9a3426d6",
   "metadata": {},
   "source": [
    "## 订阅端（Subscriber）在Fast DDS库中的数据接收流程"
   ]
  },
  {
   "cell_type": "markdown",
   "id": "77edcc2a-a2fc-49e6-90b1-1d856ba37c4e",
   "metadata": {},
   "source": [
    "为了后续更容易的看懂函数调用的时序图，我们先给出Fast DSS库中跟发布端相关的类的关系图。"
   ]
  },
  {
   "cell_type": "markdown",
   "id": "8abaf5e9-eccd-4fef-9aa9-a7b77cba61e9",
   "metadata": {},
   "source": [
    "**订阅端（Subscriber）涉及的类的静态关系图**"
   ]
  },
  {
   "cell_type": "markdown",
   "id": "3afe37d5-3233-44c3-96eb-201b77ecc9f0",
   "metadata": {},
   "source": [
    "![Subscriber的静态类图](subscriber_class.drawio.png)"
   ]
  },
  {
   "cell_type": "markdown",
   "id": "0fecf547-f8ea-488d-8e9b-1c326cac8401",
   "metadata": {},
   "source": [
    "订阅端(subscriber)跟发布端(publisher)有很大一部分类是公共的，另外一部分类是对应关系，即Publisher vs Subscriber，writer vs reader等，我们按照之前类似的方式将上图的类划分为：\n",
    "- DDS域的类：\n",
    "    + DomainParticipant和DomainParticipantImpl\n",
    "    + Topic和TopicDescription\n",
    "    + Subscriber和SubscriberImpl\n",
    "    + DataReader和DataReaderImpl，以及相关的listener类（观察者模式）：InnerDataReaderListener（ReaderListener的子类）\n",
    "    + 缓存ReaderHistory和CacheChange_t \n",
    "- RTPS域的类：\n",
    "    + RTPSParticipant和RTPSParticipantImpl\n",
    "    + RTPSReader及其子类：StatefulReader、StatelessReader\n",
    "    + 网络传输相关的类：NetworkFactory，TransportInterface及其子类：UDPTransportInterface、UDPv4Transport、UDPv6Transport、TCPTransportInterface、TCPv4Transport、TCPv6Transport、SharedMemTransport\n",
    "    + 消息接收相关的类：ReceiverControlBlock、ReceiverResource、MessageReceiver、UDPChannelResource"
   ]
  },
  {
   "cell_type": "markdown",
   "id": "942eb408-eadf-4b79-85e4-149ed228ae48",
   "metadata": {},
   "source": [
    "缓存ReaderHistory的作用和WriterHistory类似，只不过是用在数据接收端：\n",
    "- 存储 DataReader 接收到的所有数据样本（CacheChange_t），形成接收历史记录。\n",
    "- 维护数据的 顺序性 和 完整性（特别是在可靠传输模式下）。"
   ]
  },
  {
   "cell_type": "markdown",
   "id": "1c3706b5-782a-495e-952a-dc32d9bfb394",
   "metadata": {},
   "source": [
    "在订阅端(subscriber)的RTPS层里，最主要的两个类应该就是ReceiverResource 和 MessageReceiver了。\n",
    "\n",
    "**ReceiverResource** 是 网络接收资源的封装，主要功能包括：\n",
    "1. **管理底层传输层资源**  \n",
    "   - 绑定到特定的传输协议（如 UDP、TCP、共享内存等）。\n",
    "   - 监听指定的网络端口，等待数据到达。\n",
    "2. **接收原始网络数据**  \n",
    "   - 从传输层读取字节流。\n",
    "3. **委托消息解析**  \n",
    "   - 将接收到的数据传递给关联的 MessageReceiver 进行解析。\n",
    "\n",
    "**MessageReceiver** 是 RTPS 消息的解析处理器，主要功能包括：\n",
    "1. **解析 RTPS 消息**  \n",
    "   - 解码接收到的二进制数据，提取 RTPS 子消息（如 DATA、HEARTBEAT、ACKNACK 等）。\n",
    "2. **分发给对应的 RTPS 端点**  \n",
    "   - 根据消息中的 GUID，将数据传递给匹配的 RTPSReader 或 RTPSWriter。\n",
    "3. **处理消息逻辑**  \n",
    "   - 执行订阅匹配、可靠性控制（如 ACK 回复）等。\n",
    "\n",
    "两者协作完成 **\"接收字节流 → 解析 RTPS 消息 → 触发业务逻辑\"** 的完整链路"
   ]
  },
  {
   "cell_type": "markdown",
   "id": "444ccfa2-0845-40bd-889c-899d8b574d6e",
   "metadata": {},
   "source": [
    "下面根据时序图，我们看一下订阅端(Subscriber)数据接收的整个流程。"
   ]
  },
  {
   "cell_type": "markdown",
   "id": "f24fbdf9-cb3d-4d38-a3cb-bfcc95dde8ea",
   "metadata": {},
   "source": [
    "**订阅端(Subcriber)数据接收时序图（1）**"
   ]
  },
  {
   "cell_type": "markdown",
   "id": "b7ecb276-1102-42e9-b131-47027ee7a9ed",
   "metadata": {},
   "source": [
    "![Subscriber的时序图1](subscriber_callback.drawio.png)"
   ]
  },
  {
   "cell_type": "markdown",
   "id": "fa7c4761-5156-4413-889d-6f9e3d2220b4",
   "metadata": {},
   "source": [
    "**订阅端(Subcriber)数据接收时序图（2）**"
   ]
  },
  {
   "cell_type": "markdown",
   "id": "1be1471e-3a7a-4dac-aec3-1d694d7fb562",
   "metadata": {},
   "source": [
    "![Subscriber的时序图2](subscriber_read.drawio.png)"
   ]
  },
  {
   "cell_type": "markdown",
   "id": "503f72db-0a84-4bbf-a3a5-58fdee39bd79",
   "metadata": {},
   "source": [
    "可能大家会好奇，为什么订阅端(Subcriber)的时序图会被拆成两个呢？其实我们看了示例代码就会很清楚了。"
   ]
  },
  {
   "cell_type": "markdown",
   "id": "eced94c4-6206-4e45-9a2f-0c46ba69ade3",
   "metadata": {},
   "source": [
    "作为网络通信程序，订阅端(Subcriber)的处理逻辑应该和发布端(Publisher)正好相反，也就是：\n",
    "- 数据接收\n",
    "- 数据解包\n",
    "- 反序列化"
   ]
  },
  {
   "cell_type": "markdown",
   "id": "9e060fc0-9aff-4739-a920-6f69b0fd5055",
   "metadata": {},
   "source": [
    "而Fast DDS的订阅端(Subcriber)数据接收是由RTPS层的接收线程完成的，然后RTPS层完成数据接收和数据解包后，通过回调函数（listener）的方式通知上层应用，然后上层应用再通过相应的接口，从缓存里读取和反序列化数据。"
   ]
  },
  {
   "cell_type": "markdown",
   "id": "f1ab7000-b544-4129-871e-4ff3586c56b0",
   "metadata": {},
   "source": [
    "```cpp\n",
    "    class SubListener : public DataReaderListener\n",
    "    {\n",
    "    public:\n",
    "        // ...\n",
    "        void on_data_available(\n",
    "                DataReader* reader) override\n",
    "        {\n",
    "            SampleInfo info;\n",
    "            if (reader->take_next_sample(&hello_, &info) == eprosima::fastrtps::types::ReturnCode_t::RETCODE_OK)\n",
    "            {\n",
    "                if (info.valid_data)\n",
    "                {\n",
    "                    samples_++;\n",
    "                    std::cout << \"Message: \" << hello_.message() << \" with index: \" << hello_.index()\n",
    "                              << \" RECEIVED.\" << std::endl;\n",
    "                }\n",
    "            }\n",
    "        }\n",
    "\n",
    "        HelloWorld hello_;\n",
    "\n",
    "        std::atomic_int samples_;\n",
    "\n",
    "    }\n",
    "```"
   ]
  },
  {
   "cell_type": "markdown",
   "id": "98c5c8d2-f50e-462b-89ac-43d67e939cc6",
   "metadata": {},
   "source": [
    "上面的代码中，SubListener::on_data_available就是RTPS层会回调的函数，然后`reader->take_next_sample(&hello_, &info)`这行代码就是上层应用从缓存中读取和反序列化的过程。  \n",
    "所以我们的序列图就自然的以SubListener::on_data_available函数为分界线，序列图(1)描述的就是数据接收和数据解包的过程，序列图(2)描述的就是上层应用主动读取和反序列化的过错。"
   ]
  },
  {
   "cell_type": "markdown",
   "id": "e9d97f8c-c01a-4cd5-9f60-0799ba16df5f",
   "metadata": {},
   "source": [
    "接下来我们逐步说明订阅端(Subcriber)的时序图"
   ]
  },
  {
   "cell_type": "markdown",
   "id": "228348fa-1287-44d1-9d98-ce107b5961cd",
   "metadata": {},
   "source": [
    "**1. 数据接收**"
   ]
  },
  {
   "cell_type": "markdown",
   "id": "96b2db73-eb76-406b-b63a-df2f87e7ccdf",
   "metadata": {},
   "source": [
    "![Subscriber的回调时序图1](subscriber_callback.1.png)"
   ]
  },
  {
   "cell_type": "markdown",
   "id": "b28ac2be-1781-4444-a59f-954400ba14eb",
   "metadata": {},
   "source": [
    "首先是UDPChannelResource::perform_listen_operation这个函数（图中没体现）是作为一个独立线程函数运行的，它里面是个无限循环，不断的调用socket的receive_from函数，从网络获取原始数据，然后把message_buffer发给ReceiverResource，而ReceiverResource将网络字节流转成CDRMessage_t对象，再传给MessageReceiver做后续处理。  \n",
    "这段流程主要完成数据接收和传给数据处理模块的工作。"
   ]
  },
  {
   "cell_type": "markdown",
   "id": "11ae08b9-98c3-4397-99e7-83873fde4f34",
   "metadata": {},
   "source": [
    "**2. 数据接收和分发**"
   ]
  },
  {
   "cell_type": "markdown",
   "id": "c7c0a45d-1dae-46f5-9afd-d18cdc750d5e",
   "metadata": {},
   "source": [
    "![Subscriber的回调时序图2](subscriber_callback.2.png)"
   ]
  },
  {
   "cell_type": "markdown",
   "id": "79cdd30c-c73a-442a-9805-f400aab8d8e1",
   "metadata": {},
   "source": [
    "上图流程主要是两大块：\n",
    "- MessageReceiver解包，提取submessage的过程\n",
    "- MessageReceiver将数据分发给RTPSReader的过程\n",
    "\n",
    "经过这两步，数据就从DRMessage_t对象 转变成 CacheChange_t对象。"
   ]
  },
  {
   "cell_type": "markdown",
   "id": "a92b45ee-d8de-4edd-b76b-9efd701ca21f",
   "metadata": {},
   "source": [
    "**3. 通知上层应用读取数据**"
   ]
  },
  {
   "cell_type": "markdown",
   "id": "a625e537-6584-4ede-a1cb-a26a44f81eb3",
   "metadata": {},
   "source": [
    "![Subscriber的回调时序图3](subscriber_callback.3.png)"
   ]
  },
  {
   "cell_type": "markdown",
   "id": "3b991e9a-b584-471a-985c-e8fb97491977",
   "metadata": {},
   "source": [
    "上图流程主要是两大块：\n",
    "\n",
    "- RTPSReader将CacheChange_t对象缓存到ReaderHistroy中\n",
    "- 回调通知上层应用\n",
    "\n",
    "然后上层应用就可以通过`reader->take_next_sample(&hello_, &info)`语句从缓存里读取并反序列化数据。"
   ]
  },
  {
   "cell_type": "markdown",
   "id": "4d02e0e4-1a7a-46a9-827a-5be39d7e0a93",
   "metadata": {},
   "source": [
    "**4. 读取和反序列化数据**"
   ]
  },
  {
   "cell_type": "markdown",
   "id": "df4cd183-906e-4020-a053-1457c42cf1bb",
   "metadata": {},
   "source": [
    "![Subscriber的读取时序图1](subscriber_read.1.png)"
   ]
  },
  {
   "cell_type": "markdown",
   "id": "2d6810fa-4d44-47b8-99f4-6f5f82b67c13",
   "metadata": {},
   "source": [
    "上图流程主要是两大块：\n",
    "\n",
    "- 从ReaderHistroy中读取缓存数据，创建ReadTakeCommand\n",
    "- ReadTakeCommand完成数据反序列化，并从ReaderHistory中删除已读的缓存数据\n",
    "\n",
    "至此，整个订阅端(Subcriber)程序接收流程基本完成。"
   ]
  },
  {
   "cell_type": "markdown",
   "id": "337618b4-4fc7-45d7-9c85-10ce26cb1c1e",
   "metadata": {},
   "source": [
    "## 附录"
   ]
  },
  {
   "cell_type": "markdown",
   "id": "641daeea-33f0-4c4b-9ccd-ee5b16eed296",
   "metadata": {},
   "source": [
    "**发布端(publisher)示例代码**"
   ]
  },
  {
   "cell_type": "markdown",
   "id": "eb8908bc-33e8-4aab-9e89-72208ce105ad",
   "metadata": {},
   "source": [
    "```cpp\n",
    "// Copyright 2016 Proyectos y Sistemas de Mantenimiento SL (eProsima).\n",
    "//\n",
    "// Licensed under the Apache License, Version 2.0 (the \"License\");\n",
    "// you may not use this file except in compliance with the License.\n",
    "// You may obtain a copy of the License at\n",
    "//\n",
    "//     http://www.apache.org/licenses/LICENSE-2.0\n",
    "//\n",
    "// Unless required by applicable law or agreed to in writing, software\n",
    "// distributed under the License is distributed on an \"AS IS\" BASIS,\n",
    "// WITHOUT WARRANTIES OR CONDITIONS OF ANY KIND, either express or implied.\n",
    "// See the License for the specific language governing permissions and\n",
    "// limitations under the License.\n",
    "\n",
    "/**\n",
    " * @file HelloWorldPublisher.cpp\n",
    " *\n",
    " */\n",
    "\n",
    "#include \"HelloWorldPubSubTypes.h\"\n",
    "\n",
    "#include <chrono>\n",
    "#include <thread>\n",
    "\n",
    "#include <fastdds/dds/domain/DomainParticipant.hpp>\n",
    "#include <fastdds/dds/domain/DomainParticipantFactory.hpp>\n",
    "#include <fastdds/dds/publisher/DataWriter.hpp>\n",
    "#include <fastdds/dds/publisher/DataWriterListener.hpp>\n",
    "#include <fastdds/dds/publisher/Publisher.hpp>\n",
    "#include <fastdds/dds/topic/TypeSupport.hpp>\n",
    "\n",
    "using namespace eprosima::fastdds::dds;\n",
    "\n",
    "class HelloWorldPublisher\n",
    "{\n",
    "private:\n",
    "\n",
    "    HelloWorld hello_;\n",
    "\n",
    "    DomainParticipant* participant_;\n",
    "\n",
    "    Publisher* publisher_;\n",
    "\n",
    "    Topic* topic_;\n",
    "\n",
    "    DataWriter* writer_;\n",
    "\n",
    "    TypeSupport type_;\n",
    "\n",
    "    class PubListener : public DataWriterListener\n",
    "    {\n",
    "    public:\n",
    "\n",
    "        PubListener()\n",
    "            : matched_(0)\n",
    "        {\n",
    "        }\n",
    "\n",
    "        ~PubListener() override\n",
    "        {\n",
    "        }\n",
    "\n",
    "        void on_publication_matched(\n",
    "                DataWriter*,\n",
    "                const PublicationMatchedStatus& info) override\n",
    "        {\n",
    "            if (info.current_count_change == 1)\n",
    "            {\n",
    "                matched_ = info.total_count;\n",
    "                std::cout << \"Publisher matched.\" << std::endl;\n",
    "            }\n",
    "            else if (info.current_count_change == -1)\n",
    "            {\n",
    "                matched_ = info.total_count;\n",
    "                std::cout << \"Publisher unmatched.\" << std::endl;\n",
    "            }\n",
    "            else\n",
    "            {\n",
    "                std::cout << info.current_count_change\n",
    "                        << \" is not a valid value for PublicationMatchedStatus current count change.\" << std::endl;\n",
    "            }\n",
    "        }\n",
    "\n",
    "        std::atomic_int matched_;\n",
    "\n",
    "    } listener_;\n",
    "\n",
    "public:\n",
    "\n",
    "    HelloWorldPublisher()\n",
    "        : participant_(nullptr)\n",
    "        , publisher_(nullptr)\n",
    "        , topic_(nullptr)\n",
    "        , writer_(nullptr)\n",
    "        , type_(new HelloWorldPubSubType())\n",
    "    {\n",
    "    }\n",
    "\n",
    "    virtual ~HelloWorldPublisher()\n",
    "    {\n",
    "        if (writer_ != nullptr)\n",
    "        {\n",
    "            publisher_->delete_datawriter(writer_);\n",
    "        }\n",
    "        if (publisher_ != nullptr)\n",
    "        {\n",
    "            participant_->delete_publisher(publisher_);\n",
    "        }\n",
    "        if (topic_ != nullptr)\n",
    "        {\n",
    "            participant_->delete_topic(topic_);\n",
    "        }\n",
    "        DomainParticipantFactory::get_instance()->delete_participant(participant_);\n",
    "    }\n",
    "\n",
    "    //!Initialize the publisher\n",
    "    bool init()\n",
    "    {\n",
    "        hello_.index(0);\n",
    "        hello_.message(\"HelloWorld\");\n",
    "\n",
    "        DomainParticipantQos participantQos;\n",
    "        participantQos.name(\"Participant_publisher\");\n",
    "        participant_ = DomainParticipantFactory::get_instance()->create_participant(0, participantQos);\n",
    "\n",
    "        if (participant_ == nullptr)\n",
    "        {\n",
    "            return false;\n",
    "        }\n",
    "\n",
    "        // Register the Type\n",
    "        type_.register_type(participant_);\n",
    "\n",
    "        // Create the publications Topic\n",
    "        topic_ = participant_->create_topic(\"HelloWorldTopic\", \"HelloWorld\", TOPIC_QOS_DEFAULT);\n",
    "\n",
    "        if (topic_ == nullptr)\n",
    "        {\n",
    "            return false;\n",
    "        }\n",
    "\n",
    "        // Create the Publisher\n",
    "        publisher_ = participant_->create_publisher(PUBLISHER_QOS_DEFAULT, nullptr);\n",
    "\n",
    "        if (publisher_ == nullptr)\n",
    "        {\n",
    "            return false;\n",
    "        }\n",
    "\n",
    "        // Create the DataWriter\n",
    "        writer_ = publisher_->create_datawriter(topic_, DATAWRITER_QOS_DEFAULT, &listener_);\n",
    "\n",
    "        if (writer_ == nullptr)\n",
    "        {\n",
    "            return false;\n",
    "        }\n",
    "        return true;\n",
    "    }\n",
    "\n",
    "    //!Send a publication\n",
    "    bool publish()\n",
    "    {\n",
    "        if (listener_.matched_ > 0)\n",
    "        {\n",
    "            hello_.index(hello_.index() + 1);\n",
    "            writer_->write(&hello_);\n",
    "            return true;\n",
    "        }\n",
    "        return false;\n",
    "    }\n",
    "\n",
    "    //!Run the Publisher\n",
    "    void run(\n",
    "            uint32_t samples)\n",
    "    {\n",
    "        uint32_t samples_sent = 0;\n",
    "        while (samples_sent < samples)\n",
    "        {\n",
    "            if (publish())\n",
    "            {\n",
    "                samples_sent++;\n",
    "                std::cout << \"Message: \" << hello_.message() << \" with index: \" << hello_.index()\n",
    "                            << \" SENT\" << std::endl;\n",
    "            }\n",
    "            std::this_thread::sleep_for(std::chrono::milliseconds(1000));\n",
    "        }\n",
    "    }\n",
    "};\n",
    "\n",
    "int main(\n",
    "        int argc,\n",
    "        char** argv)\n",
    "{\n",
    "    std::cout << \"Starting publisher.\" << std::endl;\n",
    "    uint32_t samples = 10;\n",
    "\n",
    "    HelloWorldPublisher* mypub = new HelloWorldPublisher();\n",
    "    if(mypub->init())\n",
    "    {\n",
    "        mypub->run(samples);\n",
    "    }\n",
    "\n",
    "    delete mypub;\n",
    "    return 0;\n",
    "}\n",
    "```"
   ]
  },
  {
   "cell_type": "markdown",
   "id": "01828ba9-148e-41e8-af94-ce522abcb51e",
   "metadata": {},
   "source": [
    "**订阅端(subscriber)示例代码**"
   ]
  },
  {
   "cell_type": "markdown",
   "id": "dd32d6ff-3d34-42aa-8c08-c3bed89d85a9",
   "metadata": {},
   "source": [
    "```cpp\n",
    "// Copyright 2016 Proyectos y Sistemas de Mantenimiento SL (eProsima).\n",
    "//\n",
    "// Licensed under the Apache License, Version 2.0 (the \"License\");\n",
    "// you may not use this file except in compliance with the License.\n",
    "// You may obtain a copy of the License at\n",
    "//\n",
    "//     http://www.apache.org/licenses/LICENSE-2.0\n",
    "//\n",
    "// Unless required by applicable law or agreed to in writing, software\n",
    "// distributed under the License is distributed on an \"AS IS\" BASIS,\n",
    "// WITHOUT WARRANTIES OR CONDITIONS OF ANY KIND, either express or implied.\n",
    "// See the License for the specific language governing permissions and\n",
    "// limitations under the License.\n",
    "\n",
    "/**\n",
    " * @file HelloWorldSubscriber.cpp\n",
    " *\n",
    " */\n",
    "\n",
    "#include \"HelloWorldPubSubTypes.h\"\n",
    "\n",
    "#include <chrono>\n",
    "#include <thread>\n",
    "\n",
    "#include <fastdds/dds/domain/DomainParticipant.hpp>\n",
    "#include <fastdds/dds/domain/DomainParticipantFactory.hpp>\n",
    "#include <fastdds/dds/subscriber/DataReader.hpp>\n",
    "#include <fastdds/dds/subscriber/DataReaderListener.hpp>\n",
    "#include <fastdds/dds/subscriber/qos/DataReaderQos.hpp>\n",
    "#include <fastdds/dds/subscriber/SampleInfo.hpp>\n",
    "#include <fastdds/dds/subscriber/Subscriber.hpp>\n",
    "#include <fastdds/dds/topic/TypeSupport.hpp>\n",
    "\n",
    "using namespace eprosima::fastdds::dds;\n",
    "\n",
    "class HelloWorldSubscriber\n",
    "{\n",
    "private:\n",
    "\n",
    "    DomainParticipant* participant_;\n",
    "\n",
    "    Subscriber* subscriber_;\n",
    "\n",
    "    DataReader* reader_;\n",
    "\n",
    "    Topic* topic_;\n",
    "\n",
    "    TypeSupport type_;\n",
    "\n",
    "    class SubListener : public DataReaderListener\n",
    "    {\n",
    "    public:\n",
    "\n",
    "        SubListener()\n",
    "            : samples_(0)\n",
    "        {\n",
    "        }\n",
    "\n",
    "        ~SubListener() override\n",
    "        {\n",
    "        }\n",
    "\n",
    "        void on_subscription_matched(\n",
    "                DataReader*,\n",
    "                const SubscriptionMatchedStatus& info) override\n",
    "        {\n",
    "            if (info.current_count_change == 1)\n",
    "            {\n",
    "                std::cout << \"Subscriber matched.\" << std::endl;\n",
    "            }\n",
    "            else if (info.current_count_change == -1)\n",
    "            {\n",
    "                std::cout << \"Subscriber unmatched.\" << std::endl;\n",
    "            }\n",
    "            else\n",
    "            {\n",
    "                std::cout << info.current_count_change\n",
    "                          << \" is not a valid value for SubscriptionMatchedStatus current count change\" << std::endl;\n",
    "            }\n",
    "        }\n",
    "\n",
    "        void on_data_available(\n",
    "                DataReader* reader) override\n",
    "        {\n",
    "            SampleInfo info;\n",
    "            if (reader->take_next_sample(&hello_, &info) == eprosima::fastrtps::types::ReturnCode_t::RETCODE_OK)\n",
    "            {\n",
    "                if (info.valid_data)\n",
    "                {\n",
    "                    samples_++;\n",
    "                    std::cout << \"Message: \" << hello_.message() << \" with index: \" << hello_.index()\n",
    "                              << \" RECEIVED.\" << std::endl;\n",
    "                }\n",
    "            }\n",
    "        }\n",
    "\n",
    "        HelloWorld hello_;\n",
    "\n",
    "        std::atomic_int samples_;\n",
    "\n",
    "    }\n",
    "    listener_;\n",
    "\n",
    "public:\n",
    "\n",
    "    HelloWorldSubscriber()\n",
    "        : participant_(nullptr)\n",
    "        , subscriber_(nullptr)\n",
    "        , topic_(nullptr)\n",
    "        , reader_(nullptr)\n",
    "        , type_(new HelloWorldPubSubType())\n",
    "    {\n",
    "    }\n",
    "\n",
    "    virtual ~HelloWorldSubscriber()\n",
    "    {\n",
    "        if (reader_ != nullptr)\n",
    "        {\n",
    "            subscriber_->delete_datareader(reader_);\n",
    "        }\n",
    "        if (topic_ != nullptr)\n",
    "        {\n",
    "            participant_->delete_topic(topic_);\n",
    "        }\n",
    "        if (subscriber_ != nullptr)\n",
    "        {\n",
    "            participant_->delete_subscriber(subscriber_);\n",
    "        }\n",
    "        DomainParticipantFactory::get_instance()->delete_participant(participant_);\n",
    "    }\n",
    "\n",
    "    //!Initialize the subscriber\n",
    "    bool init()\n",
    "    {\n",
    "        DomainParticipantQos participantQos;\n",
    "        participantQos.name(\"Participant_subscriber\");\n",
    "        participant_ = DomainParticipantFactory::get_instance()->create_participant(0, participantQos);\n",
    "\n",
    "        if (participant_ == nullptr)\n",
    "        {\n",
    "            return false;\n",
    "        }\n",
    "\n",
    "        // Register the Type\n",
    "        type_.register_type(participant_);\n",
    "\n",
    "        // Create the subscriptions Topic\n",
    "        topic_ = participant_->create_topic(\"HelloWorldTopic\", \"HelloWorld\", TOPIC_QOS_DEFAULT);\n",
    "\n",
    "        if (topic_ == nullptr)\n",
    "        {\n",
    "            return false;\n",
    "        }\n",
    "\n",
    "        // Create the Subscriber\n",
    "        subscriber_ = participant_->create_subscriber(SUBSCRIBER_QOS_DEFAULT, nullptr);\n",
    "\n",
    "        if (subscriber_ == nullptr)\n",
    "        {\n",
    "            return false;\n",
    "        }\n",
    "\n",
    "        // Create the DataReader\n",
    "        reader_ = subscriber_->create_datareader(topic_, DATAREADER_QOS_DEFAULT, &listener_);\n",
    "\n",
    "        if (reader_ == nullptr)\n",
    "        {\n",
    "            return false;\n",
    "        }\n",
    "\n",
    "        return true;\n",
    "    }\n",
    "\n",
    "    //!Run the Subscriber\n",
    "    void run(\n",
    "            uint32_t samples)\n",
    "    {\n",
    "        while (listener_.samples_ < samples)\n",
    "        {\n",
    "            std::this_thread::sleep_for(std::chrono::milliseconds(100));\n",
    "        }\n",
    "    }\n",
    "\n",
    "};\n",
    "\n",
    "int main(\n",
    "        int argc,\n",
    "        char** argv)\n",
    "{\n",
    "    std::cout << \"Starting subscriber.\" << std::endl;\n",
    "    uint32_t samples = 10;\n",
    "\n",
    "    HelloWorldSubscriber* mysub = new HelloWorldSubscriber();\n",
    "    if (mysub->init())\n",
    "    {\n",
    "        mysub->run(samples);\n",
    "    }\n",
    "\n",
    "    delete mysub;\n",
    "    return 0;\n",
    "}\n",
    "```"
   ]
  },
  {
   "cell_type": "code",
   "execution_count": null,
   "id": "4fd77dcb-72cb-45cb-b90d-c091daedc161",
   "metadata": {},
   "outputs": [],
   "source": []
  }
 ],
 "metadata": {
  "kernelspec": {
   "display_name": "Python 3 (ipykernel)",
   "language": "python",
   "name": "python3"
  },
  "language_info": {
   "codemirror_mode": {
    "name": "ipython",
    "version": 3
   },
   "file_extension": ".py",
   "mimetype": "text/x-python",
   "name": "python",
   "nbconvert_exporter": "python",
   "pygments_lexer": "ipython3",
   "version": "3.12.7"
  }
 },
 "nbformat": 4,
 "nbformat_minor": 5
}

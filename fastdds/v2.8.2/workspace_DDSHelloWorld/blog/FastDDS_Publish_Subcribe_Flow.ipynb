{
 "cells": [
  {
   "cell_type": "markdown",
   "id": "ee35bbee-617d-46a7-b1bf-1ee18d0c2138",
   "metadata": {},
   "source": [
    "# Fast DDS v2.8.2 数据流程代码解析"
   ]
  },
  {
   "cell_type": "markdown",
   "id": "00c8ea03-ff15-4665-9815-df6c884cbd22",
   "metadata": {},
   "source": [
    "本篇文章基于Fast DDS v2.8.2版本，官方的发布(publisher)和订阅(subscriber)示例程序，来梳理FastDDS源码实现中的数据收发流程。"
   ]
  },
  {
   "cell_type": "markdown",
   "id": "34240ed2-1d16-4c4f-af28-3c56e60f9bb3",
   "metadata": {},
   "source": [
    "**基于Fast DDS库应用的架构图**"
   ]
  },
  {
   "cell_type": "markdown",
   "id": "2a51a14f-74ec-4861-abd7-e29c4a741bc7",
   "metadata": {},
   "source": [
    "![FastDDS架构图](library_overview.svg)"
   ]
  },
  {
   "cell_type": "markdown",
   "id": "191c84b0-e2e8-49dc-812e-5f8054635ac1",
   "metadata": {},
   "source": [
    "从上图我们可以看到，基于Fast DDS架构的应用程序主要分为四层：\n",
    "- 应用层：在 分布式系统 中使用 Fast DDS API 实现通信的用户应用程序。\n",
    "- Fast DDS层：DDS通信中间件的实现。 它允许部署一个或多个 DDS 域,其中在同一域中的 DomainParticipants 通过 发布(Publish)/订阅(Subscribe) Topic 来交换消息。\n",
    "- RTPS层：实时发布订阅 (RTPS) 协议的实现 与 DDS 应用程序的互操作性。 该层充当传输层的抽象层。\n",
    "- 传输层：Fast DDS 可基于各种传输协议收发数据, 例如不可靠的运输协议(UDP),可靠 传输协议(TCP)或共享内存传输协议(SHM)。"
   ]
  },
  {
   "cell_type": "markdown",
   "id": "20b4f2b8-7c23-4009-9cdd-35e3a7db2ee8",
   "metadata": {},
   "source": [
    "官方的发布(publisher)和订阅(subscriber)示例程序链接：\n",
    "[Writing a simple C++ publisher and subscriber application](https://fast-dds.docs.eprosima.com/en/v2.8.2/fastdds/getting_started/simple_app/simple_app.html)  \n",
    "<https://fast-dds.docs.eprosima.com/en/v2.8.2/fastdds/getting_started/simple_app/simple_app.html>"
   ]
  },
  {
   "cell_type": "markdown",
   "id": "4aa78b37-fbc0-46b9-b759-e9b0d23bf278",
   "metadata": {},
   "source": [
    "**发布(publisher)端涉及的类的静态关系图**"
   ]
  },
  {
   "cell_type": "markdown",
   "id": "be298f74-f61f-4384-8826-898c6636dffb",
   "metadata": {},
   "source": [
    "![Publisher的静态类图](publisher_class.drawio.png)"
   ]
  },
  {
   "cell_type": "code",
   "execution_count": null,
   "id": "48b784a3-14dd-4766-87fc-4198cd337c18",
   "metadata": {},
   "outputs": [],
   "source": []
  }
 ],
 "metadata": {
  "kernelspec": {
   "display_name": "Python 3 (ipykernel)",
   "language": "python",
   "name": "python3"
  },
  "language_info": {
   "codemirror_mode": {
    "name": "ipython",
    "version": 3
   },
   "file_extension": ".py",
   "mimetype": "text/x-python",
   "name": "python",
   "nbconvert_exporter": "python",
   "pygments_lexer": "ipython3",
   "version": "3.12.7"
  }
 },
 "nbformat": 4,
 "nbformat_minor": 5
}
